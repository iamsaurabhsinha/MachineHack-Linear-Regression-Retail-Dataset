{
 "cells": [
  {
   "cell_type": "code",
   "execution_count": 1,
   "metadata": {},
   "outputs": [],
   "source": [
    "#import libraries\n",
    "import numpy as np\n",
    "import pandas as pd\n",
    "import seaborn as sns\n",
    "import matplotlib.pyplot as plt"
   ]
  },
  {
   "cell_type": "code",
   "execution_count": 2,
   "metadata": {},
   "outputs": [],
   "source": [
    "from IPython.core.interactiveshell import InteractiveShell\n",
    "InteractiveShell.ast_node_interactivity = \"all\""
   ]
  },
  {
   "cell_type": "code",
   "execution_count": 3,
   "metadata": {},
   "outputs": [],
   "source": [
    "# Read train data\n",
    "train_data = pd.read_csv(\"MachineHack_Train.csv\")"
   ]
  },
  {
   "cell_type": "code",
   "execution_count": 4,
   "metadata": {},
   "outputs": [
    {
     "data": {
      "text/html": [
       "<div>\n",
       "<style scoped>\n",
       "    .dataframe tbody tr th:only-of-type {\n",
       "        vertical-align: middle;\n",
       "    }\n",
       "\n",
       "    .dataframe tbody tr th {\n",
       "        vertical-align: top;\n",
       "    }\n",
       "\n",
       "    .dataframe thead th {\n",
       "        text-align: right;\n",
       "    }\n",
       "</style>\n",
       "<table border=\"1\" class=\"dataframe\">\n",
       "  <thead>\n",
       "    <tr style=\"text-align: right;\">\n",
       "      <th></th>\n",
       "      <th>InvoiceNo</th>\n",
       "      <th>StockCode</th>\n",
       "      <th>Description</th>\n",
       "      <th>Quantity</th>\n",
       "      <th>InvoiceDate</th>\n",
       "      <th>UnitPrice</th>\n",
       "      <th>CustomerID</th>\n",
       "      <th>Country</th>\n",
       "    </tr>\n",
       "  </thead>\n",
       "  <tbody>\n",
       "    <tr>\n",
       "      <td>67231</td>\n",
       "      <td>12257</td>\n",
       "      <td>1517</td>\n",
       "      <td>1765</td>\n",
       "      <td>10</td>\n",
       "      <td>2011-09-16 09:03:00</td>\n",
       "      <td>2.08</td>\n",
       "      <td>12963.0</td>\n",
       "      <td>35</td>\n",
       "    </tr>\n",
       "    <tr>\n",
       "      <td>29244</td>\n",
       "      <td>16141</td>\n",
       "      <td>3053</td>\n",
       "      <td>3189</td>\n",
       "      <td>2</td>\n",
       "      <td>2011-11-13 15:42:00</td>\n",
       "      <td>1.95</td>\n",
       "      <td>15005.0</td>\n",
       "      <td>35</td>\n",
       "    </tr>\n",
       "    <tr>\n",
       "      <td>77343</td>\n",
       "      <td>6455</td>\n",
       "      <td>742</td>\n",
       "      <td>787</td>\n",
       "      <td>6</td>\n",
       "      <td>2011-05-12 12:05:00</td>\n",
       "      <td>1.25</td>\n",
       "      <td>14988.0</td>\n",
       "      <td>35</td>\n",
       "    </tr>\n",
       "    <tr>\n",
       "      <td>15513</td>\n",
       "      <td>8277</td>\n",
       "      <td>1193</td>\n",
       "      <td>2200</td>\n",
       "      <td>1</td>\n",
       "      <td>2011-06-19 12:26:00</td>\n",
       "      <td>2.95</td>\n",
       "      <td>16813.0</td>\n",
       "      <td>35</td>\n",
       "    </tr>\n",
       "    <tr>\n",
       "      <td>120188</td>\n",
       "      <td>12975</td>\n",
       "      <td>2033</td>\n",
       "      <td>1762</td>\n",
       "      <td>20</td>\n",
       "      <td>2011-09-28 14:57:00</td>\n",
       "      <td>2.08</td>\n",
       "      <td>14911.0</td>\n",
       "      <td>10</td>\n",
       "    </tr>\n",
       "  </tbody>\n",
       "</table>\n",
       "</div>"
      ],
      "text/plain": [
       "        InvoiceNo  StockCode  Description  Quantity          InvoiceDate  \\\n",
       "67231       12257       1517         1765        10  2011-09-16 09:03:00   \n",
       "29244       16141       3053         3189         2  2011-11-13 15:42:00   \n",
       "77343        6455        742          787         6  2011-05-12 12:05:00   \n",
       "15513        8277       1193         2200         1  2011-06-19 12:26:00   \n",
       "120188      12975       2033         1762        20  2011-09-28 14:57:00   \n",
       "\n",
       "        UnitPrice  CustomerID  Country  \n",
       "67231        2.08     12963.0       35  \n",
       "29244        1.95     15005.0       35  \n",
       "77343        1.25     14988.0       35  \n",
       "15513        2.95     16813.0       35  \n",
       "120188       2.08     14911.0       10  "
      ]
     },
     "execution_count": 4,
     "metadata": {},
     "output_type": "execute_result"
    }
   ],
   "source": [
    "# randomly display data\n",
    "train_data.sample(5)"
   ]
  },
  {
   "cell_type": "code",
   "execution_count": 5,
   "metadata": {},
   "outputs": [
    {
     "name": "stdout",
     "output_type": "stream",
     "text": [
      "<class 'pandas.core.frame.DataFrame'>\n",
      "RangeIndex: 284780 entries, 0 to 284779\n",
      "Data columns (total 8 columns):\n",
      "InvoiceNo      284780 non-null int64\n",
      "StockCode      284780 non-null int64\n",
      "Description    284780 non-null int64\n",
      "Quantity       284780 non-null int64\n",
      "InvoiceDate    284780 non-null object\n",
      "UnitPrice      284780 non-null float64\n",
      "CustomerID     284780 non-null float64\n",
      "Country        284780 non-null int64\n",
      "dtypes: float64(2), int64(5), object(1)\n",
      "memory usage: 17.4+ MB\n"
     ]
    }
   ],
   "source": [
    "train_data.info()"
   ]
  },
  {
   "cell_type": "markdown",
   "metadata": {},
   "source": [
    "This dataset contains 284780 rows and 8 columns. "
   ]
  },
  {
   "cell_type": "code",
   "execution_count": 6,
   "metadata": {},
   "outputs": [
    {
     "data": {
      "text/plain": [
       "InvoiceNo      0\n",
       "StockCode      0\n",
       "Description    0\n",
       "Quantity       0\n",
       "InvoiceDate    0\n",
       "UnitPrice      0\n",
       "CustomerID     0\n",
       "Country        0\n",
       "dtype: int64"
      ]
     },
     "execution_count": 6,
     "metadata": {},
     "output_type": "execute_result"
    }
   ],
   "source": [
    "train_data.isnull().sum()"
   ]
  },
  {
   "cell_type": "markdown",
   "metadata": {},
   "source": [
    "There is no missing value in the dataset"
   ]
  },
  {
   "cell_type": "code",
   "execution_count": 7,
   "metadata": {},
   "outputs": [],
   "source": [
    "# Convert from float to int format\n",
    "train_data[\"CustomerID\"] = train_data[\"CustomerID\"].astype('int8')"
   ]
  },
  {
   "cell_type": "code",
   "execution_count": 8,
   "metadata": {},
   "outputs": [],
   "source": [
    "# Convert from object to datetime format\n",
    "train_data[\"InvoiceDate\"] = pd.to_datetime(train_data[\"InvoiceDate\"])"
   ]
  },
  {
   "cell_type": "code",
   "execution_count": 9,
   "metadata": {},
   "outputs": [
    {
     "data": {
      "text/html": [
       "<div>\n",
       "<style scoped>\n",
       "    .dataframe tbody tr th:only-of-type {\n",
       "        vertical-align: middle;\n",
       "    }\n",
       "\n",
       "    .dataframe tbody tr th {\n",
       "        vertical-align: top;\n",
       "    }\n",
       "\n",
       "    .dataframe thead th {\n",
       "        text-align: right;\n",
       "    }\n",
       "</style>\n",
       "<table border=\"1\" class=\"dataframe\">\n",
       "  <thead>\n",
       "    <tr style=\"text-align: right;\">\n",
       "      <th></th>\n",
       "      <th>InvoiceNo</th>\n",
       "      <th>StockCode</th>\n",
       "      <th>Description</th>\n",
       "      <th>Quantity</th>\n",
       "      <th>UnitPrice</th>\n",
       "      <th>CustomerID</th>\n",
       "      <th>Country</th>\n",
       "    </tr>\n",
       "  </thead>\n",
       "  <tbody>\n",
       "    <tr>\n",
       "      <td>count</td>\n",
       "      <td>284780.000000</td>\n",
       "      <td>284780.000000</td>\n",
       "      <td>284780.000000</td>\n",
       "      <td>284780.000000</td>\n",
       "      <td>284780.000000</td>\n",
       "      <td>284780.000000</td>\n",
       "      <td>284780.000000</td>\n",
       "    </tr>\n",
       "    <tr>\n",
       "      <td>mean</td>\n",
       "      <td>9955.394083</td>\n",
       "      <td>1573.386807</td>\n",
       "      <td>2023.955573</td>\n",
       "      <td>12.028468</td>\n",
       "      <td>3.451216</td>\n",
       "      <td>-3.380806</td>\n",
       "      <td>32.823846</td>\n",
       "    </tr>\n",
       "    <tr>\n",
       "      <td>std</td>\n",
       "      <td>5551.519138</td>\n",
       "      <td>843.604991</td>\n",
       "      <td>1089.812078</td>\n",
       "      <td>295.111588</td>\n",
       "      <td>78.399541</td>\n",
       "      <td>73.499315</td>\n",
       "      <td>6.743602</td>\n",
       "    </tr>\n",
       "    <tr>\n",
       "      <td>min</td>\n",
       "      <td>0.000000</td>\n",
       "      <td>0.000000</td>\n",
       "      <td>0.000000</td>\n",
       "      <td>-80995.000000</td>\n",
       "      <td>0.000000</td>\n",
       "      <td>-128.000000</td>\n",
       "      <td>0.000000</td>\n",
       "    </tr>\n",
       "    <tr>\n",
       "      <td>25%</td>\n",
       "      <td>5069.000000</td>\n",
       "      <td>939.000000</td>\n",
       "      <td>1141.000000</td>\n",
       "      <td>2.000000</td>\n",
       "      <td>1.250000</td>\n",
       "      <td>-68.000000</td>\n",
       "      <td>35.000000</td>\n",
       "    </tr>\n",
       "    <tr>\n",
       "      <td>50%</td>\n",
       "      <td>10310.000000</td>\n",
       "      <td>1521.000000</td>\n",
       "      <td>1987.000000</td>\n",
       "      <td>5.000000</td>\n",
       "      <td>1.950000</td>\n",
       "      <td>-5.000000</td>\n",
       "      <td>35.000000</td>\n",
       "    </tr>\n",
       "    <tr>\n",
       "      <td>75%</td>\n",
       "      <td>14657.000000</td>\n",
       "      <td>2106.000000</td>\n",
       "      <td>2945.000000</td>\n",
       "      <td>12.000000</td>\n",
       "      <td>3.750000</td>\n",
       "      <td>62.000000</td>\n",
       "      <td>35.000000</td>\n",
       "    </tr>\n",
       "    <tr>\n",
       "      <td>max</td>\n",
       "      <td>22188.000000</td>\n",
       "      <td>3683.000000</td>\n",
       "      <td>3895.000000</td>\n",
       "      <td>80995.000000</td>\n",
       "      <td>38970.000000</td>\n",
       "      <td>127.000000</td>\n",
       "      <td>36.000000</td>\n",
       "    </tr>\n",
       "  </tbody>\n",
       "</table>\n",
       "</div>"
      ],
      "text/plain": [
       "           InvoiceNo      StockCode    Description       Quantity  \\\n",
       "count  284780.000000  284780.000000  284780.000000  284780.000000   \n",
       "mean     9955.394083    1573.386807    2023.955573      12.028468   \n",
       "std      5551.519138     843.604991    1089.812078     295.111588   \n",
       "min         0.000000       0.000000       0.000000  -80995.000000   \n",
       "25%      5069.000000     939.000000    1141.000000       2.000000   \n",
       "50%     10310.000000    1521.000000    1987.000000       5.000000   \n",
       "75%     14657.000000    2106.000000    2945.000000      12.000000   \n",
       "max     22188.000000    3683.000000    3895.000000   80995.000000   \n",
       "\n",
       "           UnitPrice     CustomerID        Country  \n",
       "count  284780.000000  284780.000000  284780.000000  \n",
       "mean        3.451216      -3.380806      32.823846  \n",
       "std        78.399541      73.499315       6.743602  \n",
       "min         0.000000    -128.000000       0.000000  \n",
       "25%         1.250000     -68.000000      35.000000  \n",
       "50%         1.950000      -5.000000      35.000000  \n",
       "75%         3.750000      62.000000      35.000000  \n",
       "max     38970.000000     127.000000      36.000000  "
      ]
     },
     "execution_count": 9,
     "metadata": {},
     "output_type": "execute_result"
    }
   ],
   "source": [
    "train_data.describe()"
   ]
  },
  {
   "cell_type": "markdown",
   "metadata": {},
   "source": [
    "CustomerID and Quantity have negative values"
   ]
  },
  {
   "cell_type": "code",
   "execution_count": 10,
   "metadata": {},
   "outputs": [
    {
     "data": {
      "text/plain": [
       "(6167, 8)"
      ]
     },
     "execution_count": 10,
     "metadata": {},
     "output_type": "execute_result"
    }
   ],
   "source": [
    "train_data[train_data[\"Quantity\"] < 0].shape"
   ]
  },
  {
   "cell_type": "markdown",
   "metadata": {},
   "source": [
    "There are 6167 rows in dataset whose quantities are negative. Taking absolute value of this column since Quantity cann't be negative"
   ]
  },
  {
   "cell_type": "code",
   "execution_count": 11,
   "metadata": {},
   "outputs": [],
   "source": [
    "train_data[\"Quantity\"] = abs(train_data[\"Quantity\"])"
   ]
  },
  {
   "cell_type": "code",
   "execution_count": 12,
   "metadata": {},
   "outputs": [
    {
     "data": {
      "text/plain": [
       "(0, 8)"
      ]
     },
     "execution_count": 12,
     "metadata": {},
     "output_type": "execute_result"
    }
   ],
   "source": [
    "train_data[train_data[\"Quantity\"] < 0].shape"
   ]
  },
  {
   "cell_type": "code",
   "execution_count": 13,
   "metadata": {},
   "outputs": [
    {
     "data": {
      "text/plain": [
       "(146307, 8)"
      ]
     },
     "execution_count": 13,
     "metadata": {},
     "output_type": "execute_result"
    }
   ],
   "source": [
    "train_data[train_data[\"CustomerID\"] < 0].shape"
   ]
  },
  {
   "cell_type": "markdown",
   "metadata": {},
   "source": [
    "There are 146307 rows in dataset whose customer id's are negative. Taking absolute value of this column"
   ]
  },
  {
   "cell_type": "code",
   "execution_count": 15,
   "metadata": {},
   "outputs": [],
   "source": [
    "train_data[\"CustomerID\"] = abs(train_data[\"CustomerID\"])"
   ]
  },
  {
   "cell_type": "code",
   "execution_count": 16,
   "metadata": {},
   "outputs": [
    {
     "data": {
      "text/plain": [
       "(472, 8)"
      ]
     },
     "execution_count": 16,
     "metadata": {},
     "output_type": "execute_result"
    }
   ],
   "source": [
    "train_data[train_data[\"CustomerID\"] < 0].shape"
   ]
  },
  {
   "cell_type": "code",
   "execution_count": 17,
   "metadata": {},
   "outputs": [
    {
     "data": {
      "text/html": [
       "<div>\n",
       "<style scoped>\n",
       "    .dataframe tbody tr th:only-of-type {\n",
       "        vertical-align: middle;\n",
       "    }\n",
       "\n",
       "    .dataframe tbody tr th {\n",
       "        vertical-align: top;\n",
       "    }\n",
       "\n",
       "    .dataframe thead th {\n",
       "        text-align: right;\n",
       "    }\n",
       "</style>\n",
       "<table border=\"1\" class=\"dataframe\">\n",
       "  <thead>\n",
       "    <tr style=\"text-align: right;\">\n",
       "      <th></th>\n",
       "      <th>InvoiceNo</th>\n",
       "      <th>StockCode</th>\n",
       "      <th>Description</th>\n",
       "      <th>Quantity</th>\n",
       "      <th>InvoiceDate</th>\n",
       "      <th>UnitPrice</th>\n",
       "      <th>CustomerID</th>\n",
       "      <th>Country</th>\n",
       "    </tr>\n",
       "  </thead>\n",
       "  <tbody>\n",
       "    <tr>\n",
       "      <td>4</td>\n",
       "      <td>6080</td>\n",
       "      <td>1210</td>\n",
       "      <td>2886</td>\n",
       "      <td>12</td>\n",
       "      <td>2011-05-06 09:00:00</td>\n",
       "      <td>1.65</td>\n",
       "      <td>-128</td>\n",
       "      <td>35</td>\n",
       "    </tr>\n",
       "    <tr>\n",
       "      <td>1084</td>\n",
       "      <td>13995</td>\n",
       "      <td>2781</td>\n",
       "      <td>1872</td>\n",
       "      <td>4</td>\n",
       "      <td>2011-10-13 16:14:00</td>\n",
       "      <td>1.45</td>\n",
       "      <td>-128</td>\n",
       "      <td>35</td>\n",
       "    </tr>\n",
       "    <tr>\n",
       "      <td>1545</td>\n",
       "      <td>3854</td>\n",
       "      <td>342</td>\n",
       "      <td>3119</td>\n",
       "      <td>2</td>\n",
       "      <td>2011-03-13 10:25:00</td>\n",
       "      <td>0.85</td>\n",
       "      <td>-128</td>\n",
       "      <td>35</td>\n",
       "    </tr>\n",
       "    <tr>\n",
       "      <td>2449</td>\n",
       "      <td>5350</td>\n",
       "      <td>915</td>\n",
       "      <td>2250</td>\n",
       "      <td>24</td>\n",
       "      <td>2011-04-15 09:27:00</td>\n",
       "      <td>0.29</td>\n",
       "      <td>-128</td>\n",
       "      <td>35</td>\n",
       "    </tr>\n",
       "    <tr>\n",
       "      <td>2647</td>\n",
       "      <td>7762</td>\n",
       "      <td>1467</td>\n",
       "      <td>2394</td>\n",
       "      <td>36</td>\n",
       "      <td>2011-06-08 12:38:00</td>\n",
       "      <td>0.19</td>\n",
       "      <td>-128</td>\n",
       "      <td>35</td>\n",
       "    </tr>\n",
       "    <tr>\n",
       "      <td>...</td>\n",
       "      <td>...</td>\n",
       "      <td>...</td>\n",
       "      <td>...</td>\n",
       "      <td>...</td>\n",
       "      <td>...</td>\n",
       "      <td>...</td>\n",
       "      <td>...</td>\n",
       "      <td>...</td>\n",
       "    </tr>\n",
       "    <tr>\n",
       "      <td>283276</td>\n",
       "      <td>9195</td>\n",
       "      <td>742</td>\n",
       "      <td>787</td>\n",
       "      <td>6</td>\n",
       "      <td>2011-07-11 12:31:00</td>\n",
       "      <td>1.25</td>\n",
       "      <td>-128</td>\n",
       "      <td>35</td>\n",
       "    </tr>\n",
       "    <tr>\n",
       "      <td>283453</td>\n",
       "      <td>10891</td>\n",
       "      <td>3141</td>\n",
       "      <td>113</td>\n",
       "      <td>24</td>\n",
       "      <td>2011-08-18 16:27:00</td>\n",
       "      <td>0.55</td>\n",
       "      <td>-128</td>\n",
       "      <td>35</td>\n",
       "    </tr>\n",
       "    <tr>\n",
       "      <td>283696</td>\n",
       "      <td>4085</td>\n",
       "      <td>991</td>\n",
       "      <td>2317</td>\n",
       "      <td>40</td>\n",
       "      <td>2011-03-18 12:18:00</td>\n",
       "      <td>2.55</td>\n",
       "      <td>-128</td>\n",
       "      <td>35</td>\n",
       "    </tr>\n",
       "    <tr>\n",
       "      <td>283948</td>\n",
       "      <td>9398</td>\n",
       "      <td>279</td>\n",
       "      <td>2437</td>\n",
       "      <td>12</td>\n",
       "      <td>2011-07-15 08:09:00</td>\n",
       "      <td>1.25</td>\n",
       "      <td>-128</td>\n",
       "      <td>35</td>\n",
       "    </tr>\n",
       "    <tr>\n",
       "      <td>284488</td>\n",
       "      <td>1860</td>\n",
       "      <td>771</td>\n",
       "      <td>1654</td>\n",
       "      <td>2</td>\n",
       "      <td>2011-01-17 11:09:00</td>\n",
       "      <td>5.95</td>\n",
       "      <td>-128</td>\n",
       "      <td>35</td>\n",
       "    </tr>\n",
       "  </tbody>\n",
       "</table>\n",
       "<p>472 rows × 8 columns</p>\n",
       "</div>"
      ],
      "text/plain": [
       "        InvoiceNo  StockCode  Description  Quantity         InvoiceDate  \\\n",
       "4            6080       1210         2886        12 2011-05-06 09:00:00   \n",
       "1084        13995       2781         1872         4 2011-10-13 16:14:00   \n",
       "1545         3854        342         3119         2 2011-03-13 10:25:00   \n",
       "2449         5350        915         2250        24 2011-04-15 09:27:00   \n",
       "2647         7762       1467         2394        36 2011-06-08 12:38:00   \n",
       "...           ...        ...          ...       ...                 ...   \n",
       "283276       9195        742          787         6 2011-07-11 12:31:00   \n",
       "283453      10891       3141          113        24 2011-08-18 16:27:00   \n",
       "283696       4085        991         2317        40 2011-03-18 12:18:00   \n",
       "283948       9398        279         2437        12 2011-07-15 08:09:00   \n",
       "284488       1860        771         1654         2 2011-01-17 11:09:00   \n",
       "\n",
       "        UnitPrice  CustomerID  Country  \n",
       "4            1.65        -128       35  \n",
       "1084         1.45        -128       35  \n",
       "1545         0.85        -128       35  \n",
       "2449         0.29        -128       35  \n",
       "2647         0.19        -128       35  \n",
       "...           ...         ...      ...  \n",
       "283276       1.25        -128       35  \n",
       "283453       0.55        -128       35  \n",
       "283696       2.55        -128       35  \n",
       "283948       1.25        -128       35  \n",
       "284488       5.95        -128       35  \n",
       "\n",
       "[472 rows x 8 columns]"
      ]
     },
     "execution_count": 17,
     "metadata": {},
     "output_type": "execute_result"
    }
   ],
   "source": [
    "train_data[train_data[\"CustomerID\"] < 0]"
   ]
  },
  {
   "cell_type": "code",
   "execution_count": 18,
   "metadata": {},
   "outputs": [
    {
     "data": {
      "text/plain": [
       " 79     9664\n",
       " 52     5786\n",
       " 63     5702\n",
       " 16     5522\n",
       " 49     4050\n",
       "        ... \n",
       " 78     1095\n",
       " 0      1072\n",
       " 17     1070\n",
       " 29     1056\n",
       "-128     472\n",
       "Name: CustomerID, Length: 129, dtype: int64"
      ]
     },
     "execution_count": 18,
     "metadata": {},
     "output_type": "execute_result"
    }
   ],
   "source": [
    "train_data[\"CustomerID\"].value_counts()"
   ]
  },
  {
   "cell_type": "markdown",
   "metadata": {},
   "source": [
    "There are still 472 rows in dataset whose customer ids are negative and have same value 128. Deleting these rows from dataset"
   ]
  },
  {
   "cell_type": "code",
   "execution_count": 19,
   "metadata": {},
   "outputs": [],
   "source": [
    "train_data.drop(train_data[train_data[\"CustomerID\"] < 0].index, inplace=True)\n",
    "train_data.reset_index(drop=True, inplace=True)"
   ]
  },
  {
   "cell_type": "code",
   "execution_count": 20,
   "metadata": {},
   "outputs": [
    {
     "name": "stdout",
     "output_type": "stream",
     "text": [
      "<class 'pandas.core.frame.DataFrame'>\n",
      "RangeIndex: 284308 entries, 0 to 284307\n",
      "Data columns (total 8 columns):\n",
      "InvoiceNo      284308 non-null int64\n",
      "StockCode      284308 non-null int64\n",
      "Description    284308 non-null int64\n",
      "Quantity       284308 non-null int64\n",
      "InvoiceDate    284308 non-null datetime64[ns]\n",
      "UnitPrice      284308 non-null float64\n",
      "CustomerID     284308 non-null int8\n",
      "Country        284308 non-null int64\n",
      "dtypes: datetime64[ns](1), float64(1), int64(5), int8(1)\n",
      "memory usage: 15.5 MB\n"
     ]
    }
   ],
   "source": [
    "train_data.info()"
   ]
  },
  {
   "cell_type": "code",
   "execution_count": 21,
   "metadata": {},
   "outputs": [],
   "source": [
    "# Creating a new dataframe consist of InvoiceNo, StockCode, Quantity, UnitPrice and CustomerID\n",
    "train_df = pd.DataFrame(train_data)"
   ]
  },
  {
   "cell_type": "code",
   "execution_count": 22,
   "metadata": {},
   "outputs": [],
   "source": [
    "train_df = train_df[[\"InvoiceNo\", \"StockCode\", \"Quantity\", \"UnitPrice\", \"CustomerID\"]]"
   ]
  },
  {
   "cell_type": "code",
   "execution_count": 23,
   "metadata": {},
   "outputs": [
    {
     "data": {
      "text/html": [
       "<div>\n",
       "<style scoped>\n",
       "    .dataframe tbody tr th:only-of-type {\n",
       "        vertical-align: middle;\n",
       "    }\n",
       "\n",
       "    .dataframe tbody tr th {\n",
       "        vertical-align: top;\n",
       "    }\n",
       "\n",
       "    .dataframe thead th {\n",
       "        text-align: right;\n",
       "    }\n",
       "</style>\n",
       "<table border=\"1\" class=\"dataframe\">\n",
       "  <thead>\n",
       "    <tr style=\"text-align: right;\">\n",
       "      <th></th>\n",
       "      <th>InvoiceNo</th>\n",
       "      <th>StockCode</th>\n",
       "      <th>Quantity</th>\n",
       "      <th>UnitPrice</th>\n",
       "      <th>CustomerID</th>\n",
       "    </tr>\n",
       "  </thead>\n",
       "  <tbody>\n",
       "    <tr>\n",
       "      <td>0</td>\n",
       "      <td>6141</td>\n",
       "      <td>1583</td>\n",
       "      <td>3</td>\n",
       "      <td>3.75</td>\n",
       "      <td>24</td>\n",
       "    </tr>\n",
       "    <tr>\n",
       "      <td>1</td>\n",
       "      <td>6349</td>\n",
       "      <td>1300</td>\n",
       "      <td>6</td>\n",
       "      <td>1.95</td>\n",
       "      <td>42</td>\n",
       "    </tr>\n",
       "    <tr>\n",
       "      <td>2</td>\n",
       "      <td>16783</td>\n",
       "      <td>2178</td>\n",
       "      <td>4</td>\n",
       "      <td>5.95</td>\n",
       "      <td>60</td>\n",
       "    </tr>\n",
       "    <tr>\n",
       "      <td>3</td>\n",
       "      <td>16971</td>\n",
       "      <td>2115</td>\n",
       "      <td>1</td>\n",
       "      <td>0.83</td>\n",
       "      <td>91</td>\n",
       "    </tr>\n",
       "    <tr>\n",
       "      <td>4</td>\n",
       "      <td>17388</td>\n",
       "      <td>495</td>\n",
       "      <td>5</td>\n",
       "      <td>1.65</td>\n",
       "      <td>9</td>\n",
       "    </tr>\n",
       "  </tbody>\n",
       "</table>\n",
       "</div>"
      ],
      "text/plain": [
       "   InvoiceNo  StockCode  Quantity  UnitPrice  CustomerID\n",
       "0       6141       1583         3       3.75          24\n",
       "1       6349       1300         6       1.95          42\n",
       "2      16783       2178         4       5.95          60\n",
       "3      16971       2115         1       0.83          91\n",
       "4      17388        495         5       1.65           9"
      ]
     },
     "execution_count": 23,
     "metadata": {},
     "output_type": "execute_result"
    }
   ],
   "source": [
    "train_df.head(5)"
   ]
  },
  {
   "cell_type": "markdown",
   "metadata": {},
   "source": [
    "#### Identify and Remove Outliers"
   ]
  },
  {
   "cell_type": "code",
   "execution_count": 24,
   "metadata": {},
   "outputs": [
    {
     "data": {
      "text/plain": [
       "<matplotlib.axes._subplots.AxesSubplot at 0xdcc51601c8>"
      ]
     },
     "execution_count": 24,
     "metadata": {},
     "output_type": "execute_result"
    },
    {
     "data": {
      "image/png": "[encoded data removed]",
      "text/plain": [
       "<Figure size 432x288 with 1 Axes>"
      ]
     },
     "metadata": {
      "needs_background": "light"
     },
     "output_type": "display_data"
    }
   ],
   "source": [
    "sns.boxplot(data=train_df)"
   ]
  },
  {
   "cell_type": "markdown",
   "metadata": {},
   "source": [
    "UnitPrice and Quantity columns have outliers"
   ]
  },
  {
   "cell_type": "code",
   "execution_count": 25,
   "metadata": {},
   "outputs": [],
   "source": [
    "# Detect and remove data points that are outliers in UnitPrice column\n",
    "up_Q1 =  train_df['UnitPrice'].quantile(0.25)\n",
    "up_Q3 =  train_df['UnitPrice'].quantile(0.75)"
   ]
  },
  {
   "cell_type": "code",
   "execution_count": 26,
   "metadata": {},
   "outputs": [],
   "source": [
    "up_IQR = up_Q3 - up_Q1"
   ]
  },
  {
   "cell_type": "code",
   "execution_count": 27,
   "metadata": {},
   "outputs": [],
   "source": [
    "up_outlier = train_df[(train_df['UnitPrice'] < up_Q1-1.5*up_IQR ) | (train_df['UnitPrice'] > up_Q3+1.5*up_IQR)]['UnitPrice']"
   ]
  },
  {
   "cell_type": "code",
   "execution_count": 28,
   "metadata": {},
   "outputs": [
    {
     "name": "stdout",
     "output_type": "stream",
     "text": [
      "25141\n"
     ]
    }
   ],
   "source": [
    "print(len(up_outlier))"
   ]
  },
  {
   "cell_type": "code",
   "execution_count": 29,
   "metadata": {},
   "outputs": [],
   "source": [
    "up_outliers_index = train_df[(train_df['UnitPrice'] < up_Q1-1.5*up_IQR ) | (train_df['UnitPrice'] > up_Q3+1.5*up_IQR)].index"
   ]
  },
  {
   "cell_type": "code",
   "execution_count": 30,
   "metadata": {},
   "outputs": [
    {
     "data": {
      "text/plain": [
       "Int64Index([    23,     24,     35,     48,     50,     62,     68,     82,\n",
       "                87,     91,\n",
       "            ...\n",
       "            284168, 284186, 284203, 284235, 284256, 284270, 284278, 284291,\n",
       "            284293, 284305],\n",
       "           dtype='int64', length=25141)"
      ]
     },
     "execution_count": 30,
     "metadata": {},
     "output_type": "execute_result"
    }
   ],
   "source": [
    "up_outliers_index"
   ]
  },
  {
   "cell_type": "code",
   "execution_count": 31,
   "metadata": {},
   "outputs": [],
   "source": [
    "train_df.drop(up_outliers_index, inplace=True)"
   ]
  },
  {
   "cell_type": "code",
   "execution_count": null,
   "metadata": {},
   "outputs": [],
   "source": []
  },
  {
   "cell_type": "code",
   "execution_count": 32,
   "metadata": {},
   "outputs": [],
   "source": [
    "# Detect and remove data points that are outliers in Quantity column\n",
    "qty_Q1 =  train_df['Quantity'].quantile(0.25)\n",
    "qty_Q3 =  train_df['Quantity'].quantile(0.75)"
   ]
  },
  {
   "cell_type": "code",
   "execution_count": 33,
   "metadata": {},
   "outputs": [],
   "source": [
    "qty_IQR = qty_Q3 - qty_Q1"
   ]
  },
  {
   "cell_type": "code",
   "execution_count": 34,
   "metadata": {},
   "outputs": [],
   "source": [
    "qty_outlier = train_df[(train_df['Quantity'] < qty_Q1-1.5*qty_IQR ) | (train_df['Quantity'] > qty_Q3+1.5*qty_IQR)]['Quantity']"
   ]
  },
  {
   "cell_type": "code",
   "execution_count": 35,
   "metadata": {},
   "outputs": [
    {
     "name": "stdout",
     "output_type": "stream",
     "text": [
      "18077\n"
     ]
    }
   ],
   "source": [
    "print(len(qty_outlier))"
   ]
  },
  {
   "cell_type": "code",
   "execution_count": 36,
   "metadata": {},
   "outputs": [],
   "source": [
    "qty_outliers_index = train_df[(train_df['Quantity'] < qty_Q1-1.5*qty_IQR ) | (train_df['Quantity'] > qty_Q3+1.5*qty_IQR)].index"
   ]
  },
  {
   "cell_type": "code",
   "execution_count": 37,
   "metadata": {},
   "outputs": [
    {
     "data": {
      "text/plain": [
       "Int64Index([    11,     19,     34,     42,     46,     59,     63,     70,\n",
       "                74,     81,\n",
       "            ...\n",
       "            284185, 284217, 284220, 284221, 284240, 284246, 284258, 284265,\n",
       "            284287, 284306],\n",
       "           dtype='int64', length=18077)"
      ]
     },
     "execution_count": 37,
     "metadata": {},
     "output_type": "execute_result"
    }
   ],
   "source": [
    "qty_outliers_index"
   ]
  },
  {
   "cell_type": "code",
   "execution_count": 38,
   "metadata": {},
   "outputs": [],
   "source": [
    "train_df.drop(qty_outliers_index, inplace=True)"
   ]
  },
  {
   "cell_type": "code",
   "execution_count": 39,
   "metadata": {},
   "outputs": [
    {
     "name": "stdout",
     "output_type": "stream",
     "text": [
      "<class 'pandas.core.frame.DataFrame'>\n",
      "Int64Index: 241090 entries, 0 to 284307\n",
      "Data columns (total 5 columns):\n",
      "InvoiceNo     241090 non-null int64\n",
      "StockCode     241090 non-null int64\n",
      "Quantity      241090 non-null int64\n",
      "UnitPrice     241090 non-null float64\n",
      "CustomerID    241090 non-null int8\n",
      "dtypes: float64(1), int64(3), int8(1)\n",
      "memory usage: 9.4 MB\n"
     ]
    }
   ],
   "source": [
    "train_df.info()"
   ]
  },
  {
   "cell_type": "code",
   "execution_count": 40,
   "metadata": {},
   "outputs": [
    {
     "data": {
      "text/html": [
       "<div>\n",
       "<style scoped>\n",
       "    .dataframe tbody tr th:only-of-type {\n",
       "        vertical-align: middle;\n",
       "    }\n",
       "\n",
       "    .dataframe tbody tr th {\n",
       "        vertical-align: top;\n",
       "    }\n",
       "\n",
       "    .dataframe thead th {\n",
       "        text-align: right;\n",
       "    }\n",
       "</style>\n",
       "<table border=\"1\" class=\"dataframe\">\n",
       "  <thead>\n",
       "    <tr style=\"text-align: right;\">\n",
       "      <th></th>\n",
       "      <th>InvoiceNo</th>\n",
       "      <th>StockCode</th>\n",
       "      <th>Quantity</th>\n",
       "      <th>UnitPrice</th>\n",
       "      <th>CustomerID</th>\n",
       "    </tr>\n",
       "  </thead>\n",
       "  <tbody>\n",
       "    <tr>\n",
       "      <td>count</td>\n",
       "      <td>241090.000000</td>\n",
       "      <td>241090.000000</td>\n",
       "      <td>241090.000000</td>\n",
       "      <td>241090.000000</td>\n",
       "      <td>241090.000000</td>\n",
       "    </tr>\n",
       "    <tr>\n",
       "      <td>mean</td>\n",
       "      <td>10020.282658</td>\n",
       "      <td>1555.091746</td>\n",
       "      <td>7.420258</td>\n",
       "      <td>2.200485</td>\n",
       "      <td>64.418761</td>\n",
       "    </tr>\n",
       "    <tr>\n",
       "      <td>std</td>\n",
       "      <td>5544.156456</td>\n",
       "      <td>837.215444</td>\n",
       "      <td>6.760787</td>\n",
       "      <td>1.547534</td>\n",
       "      <td>35.392150</td>\n",
       "    </tr>\n",
       "    <tr>\n",
       "      <td>min</td>\n",
       "      <td>0.000000</td>\n",
       "      <td>0.000000</td>\n",
       "      <td>1.000000</td>\n",
       "      <td>0.000000</td>\n",
       "      <td>0.000000</td>\n",
       "    </tr>\n",
       "    <tr>\n",
       "      <td>25%</td>\n",
       "      <td>5114.000000</td>\n",
       "      <td>920.000000</td>\n",
       "      <td>2.000000</td>\n",
       "      <td>1.250000</td>\n",
       "      <td>36.000000</td>\n",
       "    </tr>\n",
       "    <tr>\n",
       "      <td>50%</td>\n",
       "      <td>10459.000000</td>\n",
       "      <td>1516.000000</td>\n",
       "      <td>5.000000</td>\n",
       "      <td>1.650000</td>\n",
       "      <td>65.000000</td>\n",
       "    </tr>\n",
       "    <tr>\n",
       "      <td>75%</td>\n",
       "      <td>14752.750000</td>\n",
       "      <td>2089.000000</td>\n",
       "      <td>12.000000</td>\n",
       "      <td>2.950000</td>\n",
       "      <td>93.000000</td>\n",
       "    </tr>\n",
       "    <tr>\n",
       "      <td>max</td>\n",
       "      <td>22186.000000</td>\n",
       "      <td>3683.000000</td>\n",
       "      <td>27.000000</td>\n",
       "      <td>7.500000</td>\n",
       "      <td>127.000000</td>\n",
       "    </tr>\n",
       "  </tbody>\n",
       "</table>\n",
       "</div>"
      ],
      "text/plain": [
       "           InvoiceNo      StockCode       Quantity      UnitPrice  \\\n",
       "count  241090.000000  241090.000000  241090.000000  241090.000000   \n",
       "mean    10020.282658    1555.091746       7.420258       2.200485   \n",
       "std      5544.156456     837.215444       6.760787       1.547534   \n",
       "min         0.000000       0.000000       1.000000       0.000000   \n",
       "25%      5114.000000     920.000000       2.000000       1.250000   \n",
       "50%     10459.000000    1516.000000       5.000000       1.650000   \n",
       "75%     14752.750000    2089.000000      12.000000       2.950000   \n",
       "max     22186.000000    3683.000000      27.000000       7.500000   \n",
       "\n",
       "          CustomerID  \n",
       "count  241090.000000  \n",
       "mean       64.418761  \n",
       "std        35.392150  \n",
       "min         0.000000  \n",
       "25%        36.000000  \n",
       "50%        65.000000  \n",
       "75%        93.000000  \n",
       "max       127.000000  "
      ]
     },
     "execution_count": 40,
     "metadata": {},
     "output_type": "execute_result"
    }
   ],
   "source": [
    "train_df.describe()"
   ]
  },
  {
   "cell_type": "code",
   "execution_count": null,
   "metadata": {},
   "outputs": [],
   "source": []
  },
  {
   "cell_type": "code",
   "execution_count": 41,
   "metadata": {},
   "outputs": [],
   "source": [
    "X = train_df.drop([\"UnitPrice\"], axis=1)\n",
    "y = train_df[\"UnitPrice\"]"
   ]
  },
  {
   "cell_type": "code",
   "execution_count": 42,
   "metadata": {},
   "outputs": [],
   "source": [
    "from sklearn.model_selection import train_test_split"
   ]
  },
  {
   "cell_type": "code",
   "execution_count": 43,
   "metadata": {},
   "outputs": [],
   "source": [
    "#Split dataset into Train Test with 80:20 ratio\n",
    "X_train, X_test, y_train, y_test = train_test_split(X, y, test_size=0.2, random_state=33)"
   ]
  },
  {
   "cell_type": "code",
   "execution_count": 44,
   "metadata": {},
   "outputs": [
    {
     "data": {
      "text/plain": [
       "(192872, 4)"
      ]
     },
     "execution_count": 44,
     "metadata": {},
     "output_type": "execute_result"
    },
    {
     "data": {
      "text/plain": [
       "(48218, 4)"
      ]
     },
     "execution_count": 44,
     "metadata": {},
     "output_type": "execute_result"
    },
    {
     "data": {
      "text/plain": [
       "(192872,)"
      ]
     },
     "execution_count": 44,
     "metadata": {},
     "output_type": "execute_result"
    },
    {
     "data": {
      "text/plain": [
       "(48218,)"
      ]
     },
     "execution_count": 44,
     "metadata": {},
     "output_type": "execute_result"
    }
   ],
   "source": [
    "X_train.shape\n",
    "X_test.shape\n",
    "y_train.shape\n",
    "y_test.shape"
   ]
  },
  {
   "cell_type": "code",
   "execution_count": 45,
   "metadata": {},
   "outputs": [],
   "source": [
    "from sklearn.linear_model import LinearRegression"
   ]
  },
  {
   "cell_type": "code",
   "execution_count": 46,
   "metadata": {},
   "outputs": [],
   "source": [
    "linreg = LinearRegression()"
   ]
  },
  {
   "cell_type": "code",
   "execution_count": 47,
   "metadata": {},
   "outputs": [
    {
     "data": {
      "text/plain": [
       "array([2.54084215, 2.38461195, 2.38305921, ..., 2.30524933, 2.05609975,\n",
       "       2.79658011])"
      ]
     },
     "execution_count": 47,
     "metadata": {},
     "output_type": "execute_result"
    }
   ],
   "source": [
    "model = linreg.fit(X_train, y_train)\n",
    "predict = model.predict(X_test)\n",
    "predict"
   ]
  },
  {
   "cell_type": "markdown",
   "metadata": {},
   "source": [
    "**Regression Evaluation Metrics**"
   ]
  },
  {
   "cell_type": "code",
   "execution_count": 48,
   "metadata": {},
   "outputs": [
    {
     "name": "stdout",
     "output_type": "stream",
     "text": [
      "MAE: 1.1221532383098145\n",
      "MSE: 2.090503440176491\n",
      "RMSE: 1.4458573374218118\n"
     ]
    }
   ],
   "source": [
    "from sklearn import metrics\n",
    "print('MAE:', metrics.mean_absolute_error(y_test, predict))\n",
    "print('MSE:', metrics.mean_squared_error(y_test, predict))\n",
    "print('RMSE:', np.sqrt(metrics.mean_squared_error(y_test, predict)))"
   ]
  },
  {
   "cell_type": "code",
   "execution_count": null,
   "metadata": {},
   "outputs": [],
   "source": []
  },
  {
   "cell_type": "code",
   "execution_count": 49,
   "metadata": {},
   "outputs": [],
   "source": [
    "# Read Test data\n",
    "test_data = pd.read_csv(\"MachineHack_Test.csv\")"
   ]
  },
  {
   "cell_type": "code",
   "execution_count": 50,
   "metadata": {},
   "outputs": [
    {
     "name": "stdout",
     "output_type": "stream",
     "text": [
      "<class 'pandas.core.frame.DataFrame'>\n",
      "RangeIndex: 122049 entries, 0 to 122048\n",
      "Data columns (total 7 columns):\n",
      "InvoiceNo      122049 non-null int64\n",
      "StockCode      122049 non-null int64\n",
      "Description    122049 non-null int64\n",
      "Quantity       122049 non-null int64\n",
      "InvoiceDate    122049 non-null object\n",
      "CustomerID     122049 non-null float64\n",
      "Country        122049 non-null int64\n",
      "dtypes: float64(1), int64(5), object(1)\n",
      "memory usage: 6.5+ MB\n"
     ]
    }
   ],
   "source": [
    "test_data.info()"
   ]
  },
  {
   "cell_type": "code",
   "execution_count": 53,
   "metadata": {},
   "outputs": [],
   "source": [
    "test_data[\"CustomerID\"] = test_data[\"CustomerID\"].astype('int8')\n",
    "test_data[\"InvoiceDate\"] = pd.to_datetime(test_data[\"InvoiceDate\"])"
   ]
  },
  {
   "cell_type": "code",
   "execution_count": 54,
   "metadata": {},
   "outputs": [
    {
     "data": {
      "text/plain": [
       "InvoiceNo      0\n",
       "StockCode      0\n",
       "Description    0\n",
       "Quantity       0\n",
       "InvoiceDate    0\n",
       "CustomerID     0\n",
       "Country        0\n",
       "dtype: int64"
      ]
     },
     "execution_count": 54,
     "metadata": {},
     "output_type": "execute_result"
    }
   ],
   "source": [
    "test_data.isnull().sum()"
   ]
  },
  {
   "cell_type": "code",
   "execution_count": 51,
   "metadata": {},
   "outputs": [
    {
     "data": {
      "text/html": [
       "<div>\n",
       "<style scoped>\n",
       "    .dataframe tbody tr th:only-of-type {\n",
       "        vertical-align: middle;\n",
       "    }\n",
       "\n",
       "    .dataframe tbody tr th {\n",
       "        vertical-align: top;\n",
       "    }\n",
       "\n",
       "    .dataframe thead th {\n",
       "        text-align: right;\n",
       "    }\n",
       "</style>\n",
       "<table border=\"1\" class=\"dataframe\">\n",
       "  <thead>\n",
       "    <tr style=\"text-align: right;\">\n",
       "      <th></th>\n",
       "      <th>InvoiceNo</th>\n",
       "      <th>StockCode</th>\n",
       "      <th>Description</th>\n",
       "      <th>Quantity</th>\n",
       "      <th>CustomerID</th>\n",
       "      <th>Country</th>\n",
       "    </tr>\n",
       "  </thead>\n",
       "  <tbody>\n",
       "    <tr>\n",
       "      <td>count</td>\n",
       "      <td>122049.000000</td>\n",
       "      <td>122049.000000</td>\n",
       "      <td>122049.000000</td>\n",
       "      <td>122049.000000</td>\n",
       "      <td>122049.000000</td>\n",
       "      <td>122049.000000</td>\n",
       "    </tr>\n",
       "    <tr>\n",
       "      <td>mean</td>\n",
       "      <td>9940.419692</td>\n",
       "      <td>1572.955788</td>\n",
       "      <td>2026.412744</td>\n",
       "      <td>12.137920</td>\n",
       "      <td>15286.445256</td>\n",
       "      <td>32.836795</td>\n",
       "    </tr>\n",
       "    <tr>\n",
       "      <td>std</td>\n",
       "      <td>5554.116349</td>\n",
       "      <td>845.106082</td>\n",
       "      <td>1087.697388</td>\n",
       "      <td>54.311646</td>\n",
       "      <td>1711.887591</td>\n",
       "      <td>6.726816</td>\n",
       "    </tr>\n",
       "    <tr>\n",
       "      <td>min</td>\n",
       "      <td>0.000000</td>\n",
       "      <td>0.000000</td>\n",
       "      <td>0.000000</td>\n",
       "      <td>-9360.000000</td>\n",
       "      <td>12347.000000</td>\n",
       "      <td>0.000000</td>\n",
       "    </tr>\n",
       "    <tr>\n",
       "      <td>25%</td>\n",
       "      <td>5018.000000</td>\n",
       "      <td>937.000000</td>\n",
       "      <td>1147.000000</td>\n",
       "      <td>2.000000</td>\n",
       "      <td>13953.000000</td>\n",
       "      <td>35.000000</td>\n",
       "    </tr>\n",
       "    <tr>\n",
       "      <td>50%</td>\n",
       "      <td>10311.000000</td>\n",
       "      <td>1523.000000</td>\n",
       "      <td>1987.000000</td>\n",
       "      <td>5.000000</td>\n",
       "      <td>15152.000000</td>\n",
       "      <td>35.000000</td>\n",
       "    </tr>\n",
       "    <tr>\n",
       "      <td>75%</td>\n",
       "      <td>14635.000000</td>\n",
       "      <td>2106.000000</td>\n",
       "      <td>2945.000000</td>\n",
       "      <td>12.000000</td>\n",
       "      <td>16782.000000</td>\n",
       "      <td>35.000000</td>\n",
       "    </tr>\n",
       "    <tr>\n",
       "      <td>max</td>\n",
       "      <td>22189.000000</td>\n",
       "      <td>3683.000000</td>\n",
       "      <td>3895.000000</td>\n",
       "      <td>4800.000000</td>\n",
       "      <td>18287.000000</td>\n",
       "      <td>36.000000</td>\n",
       "    </tr>\n",
       "  </tbody>\n",
       "</table>\n",
       "</div>"
      ],
      "text/plain": [
       "           InvoiceNo      StockCode    Description       Quantity  \\\n",
       "count  122049.000000  122049.000000  122049.000000  122049.000000   \n",
       "mean     9940.419692    1572.955788    2026.412744      12.137920   \n",
       "std      5554.116349     845.106082    1087.697388      54.311646   \n",
       "min         0.000000       0.000000       0.000000   -9360.000000   \n",
       "25%      5018.000000     937.000000    1147.000000       2.000000   \n",
       "50%     10311.000000    1523.000000    1987.000000       5.000000   \n",
       "75%     14635.000000    2106.000000    2945.000000      12.000000   \n",
       "max     22189.000000    3683.000000    3895.000000    4800.000000   \n",
       "\n",
       "          CustomerID        Country  \n",
       "count  122049.000000  122049.000000  \n",
       "mean    15286.445256      32.836795  \n",
       "std      1711.887591       6.726816  \n",
       "min     12347.000000       0.000000  \n",
       "25%     13953.000000      35.000000  \n",
       "50%     15152.000000      35.000000  \n",
       "75%     16782.000000      35.000000  \n",
       "max     18287.000000      36.000000  "
      ]
     },
     "execution_count": 51,
     "metadata": {},
     "output_type": "execute_result"
    }
   ],
   "source": [
    "test_data.describe()"
   ]
  },
  {
   "cell_type": "code",
   "execution_count": 55,
   "metadata": {},
   "outputs": [
    {
     "data": {
      "text/plain": [
       "(2738, 7)"
      ]
     },
     "execution_count": 55,
     "metadata": {},
     "output_type": "execute_result"
    }
   ],
   "source": [
    "test_data[test_data[\"Quantity\"] < 0].shape"
   ]
  },
  {
   "cell_type": "markdown",
   "metadata": {},
   "source": [
    "There are 2738 rows in dataset whose quantities are negative. Taking absolute value of this column since Quantity cann't be negative"
   ]
  },
  {
   "cell_type": "code",
   "execution_count": 56,
   "metadata": {},
   "outputs": [],
   "source": [
    "test_data[\"Quantity\"] = abs(test_data[\"Quantity\"])"
   ]
  },
  {
   "cell_type": "code",
   "execution_count": 57,
   "metadata": {},
   "outputs": [
    {
     "data": {
      "text/plain": [
       "(0, 7)"
      ]
     },
     "execution_count": 57,
     "metadata": {},
     "output_type": "execute_result"
    }
   ],
   "source": [
    "test_data[test_data[\"Quantity\"] < 0].shape"
   ]
  },
  {
   "cell_type": "code",
   "execution_count": 58,
   "metadata": {},
   "outputs": [
    {
     "name": "stdout",
     "output_type": "stream",
     "text": [
      "<class 'pandas.core.frame.DataFrame'>\n",
      "RangeIndex: 122049 entries, 0 to 122048\n",
      "Data columns (total 7 columns):\n",
      "InvoiceNo      122049 non-null int64\n",
      "StockCode      122049 non-null int64\n",
      "Description    122049 non-null int64\n",
      "Quantity       122049 non-null int64\n",
      "InvoiceDate    122049 non-null datetime64[ns]\n",
      "CustomerID     122049 non-null int8\n",
      "Country        122049 non-null int64\n",
      "dtypes: datetime64[ns](1), int64(5), int8(1)\n",
      "memory usage: 5.7 MB\n"
     ]
    }
   ],
   "source": [
    "test_data.info()"
   ]
  },
  {
   "cell_type": "code",
   "execution_count": 59,
   "metadata": {},
   "outputs": [],
   "source": [
    "# Creating a new dataframe consist of InvoiceNo, StockCode, Quantity, UnitPrice and CustomerID\n",
    "test_df = pd.DataFrame(test_data)"
   ]
  },
  {
   "cell_type": "code",
   "execution_count": 60,
   "metadata": {},
   "outputs": [],
   "source": [
    "test_df = test_df[[\"InvoiceNo\", \"StockCode\", \"Quantity\", \"CustomerID\"]]"
   ]
  },
  {
   "cell_type": "code",
   "execution_count": 61,
   "metadata": {},
   "outputs": [
    {
     "data": {
      "text/plain": [
       "LinearRegression(copy_X=True, fit_intercept=True, n_jobs=None, normalize=False)"
      ]
     },
     "execution_count": 61,
     "metadata": {},
     "output_type": "execute_result"
    }
   ],
   "source": [
    "model2 = linreg.fit(X_train, y_train)\n",
    "model2"
   ]
  },
  {
   "cell_type": "code",
   "execution_count": 62,
   "metadata": {},
   "outputs": [],
   "source": [
    "predict2 = model2.predict(test_df)"
   ]
  },
  {
   "cell_type": "code",
   "execution_count": 63,
   "metadata": {},
   "outputs": [
    {
     "data": {
      "text/plain": [
       "array([ 2.67061202,  2.80149107, -0.22488218, ...,  2.50684573,\n",
       "        2.76843803,  2.68267501])"
      ]
     },
     "execution_count": 63,
     "metadata": {},
     "output_type": "execute_result"
    }
   ],
   "source": [
    "predict2"
   ]
  },
  {
   "cell_type": "code",
   "execution_count": 64,
   "metadata": {},
   "outputs": [
    {
     "data": {
      "text/plain": [
       "(122049,)"
      ]
     },
     "execution_count": 64,
     "metadata": {},
     "output_type": "execute_result"
    }
   ],
   "source": [
    "predict2.shape"
   ]
  },
  {
   "cell_type": "code",
   "execution_count": 65,
   "metadata": {},
   "outputs": [],
   "source": [
    "df = pd.DataFrame({\"UnitPrice\" : predict2})"
   ]
  },
  {
   "cell_type": "code",
   "execution_count": 66,
   "metadata": {},
   "outputs": [],
   "source": [
    "writer = pd.ExcelWriter(\"Unit_Price_Prediction.xlsx\")\n",
    "df.to_excel(writer, \"Unit Price\", index=False)\n",
    "writer.save()"
   ]
  },
  {
   "cell_type": "code",
   "execution_count": null,
   "metadata": {},
   "outputs": [],
   "source": []
  },
  {
   "cell_type": "code",
   "execution_count": null,
   "metadata": {},
   "outputs": [],
   "source": []
  }
 ],
 "metadata": {
  "kernelspec": {
   "display_name": "Python 3",
   "language": "python",
   "name": "python3"
  },
  "language_info": {
   "codemirror_mode": {
    "name": "ipython",
    "version": 3
   },
   "file_extension": ".py",
   "mimetype": "text/x-python",
   "name": "python",
   "nbconvert_exporter": "python",
   "pygments_lexer": "ipython3",
   "version": "3.7.4"
  }
 },
 "nbformat": 4,
 "nbformat_minor": 2
}
